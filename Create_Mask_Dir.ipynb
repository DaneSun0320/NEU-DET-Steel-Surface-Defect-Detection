{
 "cells": [
  {
   "cell_type": "code",
   "execution_count": 1,
   "id": "neither-hawaii",
   "metadata": {},
   "outputs": [],
   "source": [
    "import os\n",
    "import cv2\n",
    "import argparse\n",
    "import shutil\n",
    "import numpy as np\n",
    "from lxml import etree\n",
    "from tqdm import tqdm"
   ]
  },
  {
   "cell_type": "code",
   "execution_count": 2,
   "id": "dressed-assault",
   "metadata": {},
   "outputs": [],
   "source": [
    "def dir_create(path):\n",
    "    if (os.path.exists(path)) and (os.listdir(path) != []):\n",
    "        shutil.rmtree(path)\n",
    "        os.makedirs(path)\n",
    "    if not os.path.exists(path):\n",
    "        os.makedirs(path)"
   ]
  },
  {
   "cell_type": "code",
   "execution_count": 3,
   "id": "massive-coupon",
   "metadata": {},
   "outputs": [],
   "source": [
    "def parse_args():\n",
    "    parser = argparse.ArgumentParser(\n",
    "        fromfile_prefix_chars='@',\n",
    "        description='Convert CVAT XML annotations to contours'\n",
    "        )\n",
    "    parser.add_argument(\n",
    "        '--image-dir', metavar='DIRECTORY', required=True,\n",
    "        help='directory with input images'\n",
    "        )\n",
    "    parser.add_argument(\n",
    "        '--cvat-xml', metavar='FILE', required=True,\n",
    "        help='input file with CVAT annotation in xml format'\n",
    "        )\n",
    "    parser.add_argument(\n",
    "        '--output-dir', metavar='DIRECTORY', required=True,\n",
    "        help='directory for output masks'\n",
    "        )\n",
    "    parser.add_argument(\n",
    "        '--scale-factor', type=float, default=1.0,\n",
    "        help='choose scale factor for images'\n",
    "        )\n",
    "    return parser.parse_args()"
   ]
  },
  {
   "cell_type": "code",
   "execution_count": 4,
   "id": "instant-buffalo",
   "metadata": {},
   "outputs": [],
   "source": [
    "def parse_anno_file(cvat_xml, image_name):\n",
    "    root = etree.parse(cvat_xml).getroot()\n",
    "    anno = []\n",
    "    image_name_attr = \".//image[@name='{}']\".format(image_name)\n",
    "    for image_tag in root.iterfind(image_name_attr):\n",
    "        image = {}\n",
    "        for key, value in image_tag.items():\n",
    "            image[key] = value\n",
    "        image['shapes'] = []\n",
    "        for poly_tag in image_tag.iter('polygon'):\n",
    "            polygon = {'type': 'polygon'}\n",
    "            for key, value in poly_tag.items():\n",
    "                polygon[key] = value\n",
    "            image['shapes'].append(polygon)\n",
    "        for box_tag in image_tag.iter('box'):\n",
    "            box = {'type': 'box'}\n",
    "            for key, value in box_tag.items():\n",
    "                box[key] = value\n",
    "            box['points'] = \"{0},{1};{2},{1};{2},{3};{0},{3}\".format(\n",
    "                box['xtl'], box['ytl'], box['xbr'], box['ybr'])\n",
    "            image['shapes'].append(box)\n",
    "        image['shapes'].sort(key=lambda x: int(x.get('z_order', 0)))\n",
    "        anno.append(image)\n",
    "    return anno"
   ]
  },
  {
   "cell_type": "code",
   "execution_count": 5,
   "id": "recent-handle",
   "metadata": {},
   "outputs": [],
   "source": [
    "def create_mask_file(width, height, bitness, background, shapes, scale_factor):\n",
    "    mask = np.full((height, width, bitness // 8), background, dtype=np.uint8)\n",
    "    for shape in shapes:\n",
    "        points = [tuple(map(float, p.split(','))) for p in shape['points'].split(';')]\n",
    "        points = np.array([(int(p[0]), int(p[1])) for p in points])\n",
    "        points = points*scale_factor\n",
    "        points = points.astype(int)\n",
    "        mask = cv2.drawContours(mask, [points], -1, color=(255, 255, 255), thickness=5)\n",
    "        mask = cv2.fillPoly(mask, [points], color=(0, 0, 255))\n",
    "    return mask"
   ]
  },
  {
   "cell_type": "code",
   "execution_count": 6,
   "id": "revolutionary-antibody",
   "metadata": {},
   "outputs": [],
   "source": [
    "def main():\n",
    "    args = parse_args()\n",
    "    dir_create(args.output_dir)\n",
    "    img_list = [f for f in os.listdir(args.image_dir) if os.path.isfile(os.path.join(args.image_dir, f))]\n",
    "    mask_bitness = 24\n",
    "    for img in tqdm(img_list, desc='Writing contours:'):\n",
    "        img_path = os.path.join(args.image_dir, img)\n",
    "        anno = parse_anno_file(args.cvat_xml, img)\n",
    "        background = []\n",
    "        is_first_image = True\n",
    "        for image in anno:\n",
    "            if is_first_image:\n",
    "                current_image = cv2.imread(img_path)\n",
    "                height, width, _ = current_image.shape\n",
    "                background = np.zeros((height, width, 3), np.uint8)\n",
    "                is_first_image = False\n",
    "            output_path = os.path.join(args.output_dir, img.split('.')[0] + '.png')\n",
    "            background = create_mask_file(width,\n",
    "                                          height,\n",
    "                                          mask_bitness,\n",
    "                                          background,\n",
    "                                          image['shapes'],\n",
    "                                          args.scale_factor)\n",
    "        cv2.imwrite(output_path, background)"
   ]
  },
  {
   "cell_type": "code",
   "execution_count": 7,
   "id": "swedish-cooperation",
   "metadata": {},
   "outputs": [],
   "source": [
    "#if __name__ == \"__main__\":\n",
    "    #main()"
   ]
  },
  {
   "cell_type": "code",
   "execution_count": null,
   "id": "motivated-dispute",
   "metadata": {},
   "outputs": [],
   "source": []
  }
 ],
 "metadata": {
  "kernelspec": {
   "display_name": "Python 3",
   "language": "python",
   "name": "python3"
  },
  "language_info": {
   "codemirror_mode": {
    "name": "ipython",
    "version": 3
   },
   "file_extension": ".py",
   "mimetype": "text/x-python",
   "name": "python",
   "nbconvert_exporter": "python",
   "pygments_lexer": "ipython3",
   "version": "3.7.3"
  }
 },
 "nbformat": 4,
 "nbformat_minor": 5
}
