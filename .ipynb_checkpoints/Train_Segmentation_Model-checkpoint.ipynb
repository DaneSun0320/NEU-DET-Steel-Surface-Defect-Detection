{
 "cells": [
  {
   "cell_type": "code",
   "execution_count": 1,
   "id": "continent-trauma",
   "metadata": {},
   "outputs": [],
   "source": [
    "from Data_Extraction_Visualization import XMLExtraction, Visualize\n",
    "from Data_Retriever_Seg import DataRetriever\n",
    "from torch.utils.data import DataLoader\n",
    "from sklearn.model_selection import train_test_split\n",
    "import matplotlib.pyplot as plt\n",
    "%matplotlib inline"
   ]
  },
  {
   "cell_type": "code",
   "execution_count": 2,
   "id": "subsequent-investigator",
   "metadata": {},
   "outputs": [],
   "source": [
    "CUDA_LAUNCH_BLOCKING=\"1\""
   ]
  },
  {
   "cell_type": "code",
   "execution_count": 3,
   "id": "deluxe-asbestos",
   "metadata": {},
   "outputs": [],
   "source": [
    "my_path = '.\\ANNOTATIONS'\n",
    "XML_obj = XMLExtraction(my_path)\n",
    "data = XML_obj.df"
   ]
  },
  {
   "cell_type": "code",
   "execution_count": 4,
   "id": "novel-spring",
   "metadata": {},
   "outputs": [
    {
     "data": {
      "text/html": [
       "<div>\n",
       "<style scoped>\n",
       "    .dataframe tbody tr th:only-of-type {\n",
       "        vertical-align: middle;\n",
       "    }\n",
       "\n",
       "    .dataframe tbody tr th {\n",
       "        vertical-align: top;\n",
       "    }\n",
       "\n",
       "    .dataframe thead th {\n",
       "        text-align: right;\n",
       "    }\n",
       "</style>\n",
       "<table border=\"1\" class=\"dataframe\">\n",
       "  <thead>\n",
       "    <tr style=\"text-align: right;\">\n",
       "      <th></th>\n",
       "      <th>Name</th>\n",
       "      <th>image_path</th>\n",
       "      <th>annotation_path</th>\n",
       "      <th>label</th>\n",
       "    </tr>\n",
       "  </thead>\n",
       "  <tbody>\n",
       "    <tr>\n",
       "      <th>0</th>\n",
       "      <td>crazing_1</td>\n",
       "      <td>.\\IMAGES\\crazing_1.jpg</td>\n",
       "      <td>.\\ANNOTATIONS\\crazing_1.xml</td>\n",
       "      <td>crazing</td>\n",
       "    </tr>\n",
       "    <tr>\n",
       "      <th>1</th>\n",
       "      <td>crazing_10</td>\n",
       "      <td>.\\IMAGES\\crazing_10.jpg</td>\n",
       "      <td>.\\ANNOTATIONS\\crazing_10.xml</td>\n",
       "      <td>crazing</td>\n",
       "    </tr>\n",
       "    <tr>\n",
       "      <th>2</th>\n",
       "      <td>crazing_100</td>\n",
       "      <td>.\\IMAGES\\crazing_100.jpg</td>\n",
       "      <td>.\\ANNOTATIONS\\crazing_100.xml</td>\n",
       "      <td>crazing</td>\n",
       "    </tr>\n",
       "    <tr>\n",
       "      <th>3</th>\n",
       "      <td>crazing_101</td>\n",
       "      <td>.\\IMAGES\\crazing_101.jpg</td>\n",
       "      <td>.\\ANNOTATIONS\\crazing_101.xml</td>\n",
       "      <td>crazing</td>\n",
       "    </tr>\n",
       "    <tr>\n",
       "      <th>4</th>\n",
       "      <td>crazing_102</td>\n",
       "      <td>.\\IMAGES\\crazing_102.jpg</td>\n",
       "      <td>.\\ANNOTATIONS\\crazing_102.xml</td>\n",
       "      <td>crazing</td>\n",
       "    </tr>\n",
       "  </tbody>\n",
       "</table>\n",
       "</div>"
      ],
      "text/plain": [
       "          Name                image_path                annotation_path  \\\n",
       "0    crazing_1    .\\IMAGES\\crazing_1.jpg    .\\ANNOTATIONS\\crazing_1.xml   \n",
       "1   crazing_10   .\\IMAGES\\crazing_10.jpg   .\\ANNOTATIONS\\crazing_10.xml   \n",
       "2  crazing_100  .\\IMAGES\\crazing_100.jpg  .\\ANNOTATIONS\\crazing_100.xml   \n",
       "3  crazing_101  .\\IMAGES\\crazing_101.jpg  .\\ANNOTATIONS\\crazing_101.xml   \n",
       "4  crazing_102  .\\IMAGES\\crazing_102.jpg  .\\ANNOTATIONS\\crazing_102.xml   \n",
       "\n",
       "     label  \n",
       "0  crazing  \n",
       "1  crazing  \n",
       "2  crazing  \n",
       "3  crazing  \n",
       "4  crazing  "
      ]
     },
     "execution_count": 4,
     "metadata": {},
     "output_type": "execute_result"
    }
   ],
   "source": [
    "data.head()"
   ]
  },
  {
   "cell_type": "code",
   "execution_count": 5,
   "id": "consecutive-possible",
   "metadata": {},
   "outputs": [],
   "source": [
    "data_crazing = data[data['label'] == 'crazing']"
   ]
  },
  {
   "cell_type": "code",
   "execution_count": 6,
   "id": "democratic-egypt",
   "metadata": {},
   "outputs": [],
   "source": [
    "train_crazing, test_crazing = train_test_split(data[data['label'] == 'crazing'],\n",
    "                                              test_size=0.33,\n",
    "                                              random_state=123)"
   ]
  },
  {
   "cell_type": "code",
   "execution_count": 7,
   "id": "prepared-programming",
   "metadata": {},
   "outputs": [],
   "source": [
    "tmp_path = train_crazing[\"image_path\"].tolist()\n",
    "tmp_target = train_crazing[\"annotation_path\"].tolist()\n",
    "train_data_retriever = DataRetriever(\n",
    "    tmp_path,\n",
    "    tmp_target\n",
    ")\n",
    "# dataloader training\n",
    "dataloader_training = DataLoader(dataset=train_data_retriever,\n",
    "                                 batch_size=10,\n",
    "                                 shuffle=True)"
   ]
  },
  {
   "cell_type": "code",
   "execution_count": 8,
   "id": "established-validation",
   "metadata": {},
   "outputs": [],
   "source": [
    "tmp_path = test_crazing[\"image_path\"].tolist()\n",
    "tmp_target = test_crazing[\"annotation_path\"].tolist()\n",
    "test_data_retriever = DataRetriever(\n",
    "    tmp_path,\n",
    "    tmp_target\n",
    ")\n",
    "# dataloader test\n",
    "dataloader_test = DataLoader(dataset=test_data_retriever,\n",
    "                                 batch_size=10,\n",
    "                                 shuffle=True)"
   ]
  },
  {
   "cell_type": "code",
   "execution_count": null,
   "id": "growing-penalty",
   "metadata": {},
   "outputs": [],
   "source": []
  }
 ],
 "metadata": {
  "kernelspec": {
   "display_name": "Python 3",
   "language": "python",
   "name": "python3"
  },
  "language_info": {
   "codemirror_mode": {
    "name": "ipython",
    "version": 3
   },
   "file_extension": ".py",
   "mimetype": "text/x-python",
   "name": "python",
   "nbconvert_exporter": "python",
   "pygments_lexer": "ipython3",
   "version": "3.7.3"
  }
 },
 "nbformat": 4,
 "nbformat_minor": 5
}
