{
 "cells": [
  {
   "cell_type": "code",
   "execution_count": 1,
   "id": "continent-trauma",
   "metadata": {},
   "outputs": [],
   "source": [
    "import pandas as pd\n",
    "import numpy as np\n",
    "from Utilities.Resnet_UNet import ResNetUNet\n",
    "from Utilities.Trainer import Trainer\n",
    "import torch\n",
    "import torch.nn as nn\n",
    "from torchvision import models\n",
    "from torch.utils.data import DataLoader, Dataset\n",
    "import torch.multiprocessing as mp\n",
    "import matplotlib.pyplot as plt\n",
    "%matplotlib inline"
   ]
  },
  {
   "cell_type": "code",
   "execution_count": 2,
   "id": "subsequent-investigator",
   "metadata": {},
   "outputs": [],
   "source": [
    "CUDA_LAUNCH_BLOCKING=\"1\""
   ]
  },
  {
   "cell_type": "code",
   "execution_count": 3,
   "id": "deluxe-asbestos",
   "metadata": {
    "scrolled": false
   },
   "outputs": [
    {
     "name": "stdout",
     "output_type": "stream",
     "text": [
      "ResNetUNet(\n",
      "  (base_model): ResNet(\n",
      "    (conv1): Conv2d(3, 64, kernel_size=(7, 7), stride=(2, 2), padding=(3, 3), bias=False)\n",
      "    (bn1): BatchNorm2d(64, eps=1e-05, momentum=0.1, affine=True, track_running_stats=True)\n",
      "    (relu): ReLU(inplace)\n",
      "    (maxpool): MaxPool2d(kernel_size=3, stride=2, padding=1, dilation=1, ceil_mode=False)\n",
      "    (layer1): Sequential(\n",
      "      (0): BasicBlock(\n",
      "        (conv1): Conv2d(64, 64, kernel_size=(3, 3), stride=(1, 1), padding=(1, 1), bias=False)\n",
      "        (bn1): BatchNorm2d(64, eps=1e-05, momentum=0.1, affine=True, track_running_stats=True)\n",
      "        (relu): ReLU(inplace)\n",
      "        (conv2): Conv2d(64, 64, kernel_size=(3, 3), stride=(1, 1), padding=(1, 1), bias=False)\n",
      "        (bn2): BatchNorm2d(64, eps=1e-05, momentum=0.1, affine=True, track_running_stats=True)\n",
      "      )\n",
      "      (1): BasicBlock(\n",
      "        (conv1): Conv2d(64, 64, kernel_size=(3, 3), stride=(1, 1), padding=(1, 1), bias=False)\n",
      "        (bn1): BatchNorm2d(64, eps=1e-05, momentum=0.1, affine=True, track_running_stats=True)\n",
      "        (relu): ReLU(inplace)\n",
      "        (conv2): Conv2d(64, 64, kernel_size=(3, 3), stride=(1, 1), padding=(1, 1), bias=False)\n",
      "        (bn2): BatchNorm2d(64, eps=1e-05, momentum=0.1, affine=True, track_running_stats=True)\n",
      "      )\n",
      "    )\n",
      "    (layer2): Sequential(\n",
      "      (0): BasicBlock(\n",
      "        (conv1): Conv2d(64, 128, kernel_size=(3, 3), stride=(2, 2), padding=(1, 1), bias=False)\n",
      "        (bn1): BatchNorm2d(128, eps=1e-05, momentum=0.1, affine=True, track_running_stats=True)\n",
      "        (relu): ReLU(inplace)\n",
      "        (conv2): Conv2d(128, 128, kernel_size=(3, 3), stride=(1, 1), padding=(1, 1), bias=False)\n",
      "        (bn2): BatchNorm2d(128, eps=1e-05, momentum=0.1, affine=True, track_running_stats=True)\n",
      "        (downsample): Sequential(\n",
      "          (0): Conv2d(64, 128, kernel_size=(1, 1), stride=(2, 2), bias=False)\n",
      "          (1): BatchNorm2d(128, eps=1e-05, momentum=0.1, affine=True, track_running_stats=True)\n",
      "        )\n",
      "      )\n",
      "      (1): BasicBlock(\n",
      "        (conv1): Conv2d(128, 128, kernel_size=(3, 3), stride=(1, 1), padding=(1, 1), bias=False)\n",
      "        (bn1): BatchNorm2d(128, eps=1e-05, momentum=0.1, affine=True, track_running_stats=True)\n",
      "        (relu): ReLU(inplace)\n",
      "        (conv2): Conv2d(128, 128, kernel_size=(3, 3), stride=(1, 1), padding=(1, 1), bias=False)\n",
      "        (bn2): BatchNorm2d(128, eps=1e-05, momentum=0.1, affine=True, track_running_stats=True)\n",
      "      )\n",
      "    )\n",
      "    (layer3): Sequential(\n",
      "      (0): BasicBlock(\n",
      "        (conv1): Conv2d(128, 256, kernel_size=(3, 3), stride=(2, 2), padding=(1, 1), bias=False)\n",
      "        (bn1): BatchNorm2d(256, eps=1e-05, momentum=0.1, affine=True, track_running_stats=True)\n",
      "        (relu): ReLU(inplace)\n",
      "        (conv2): Conv2d(256, 256, kernel_size=(3, 3), stride=(1, 1), padding=(1, 1), bias=False)\n",
      "        (bn2): BatchNorm2d(256, eps=1e-05, momentum=0.1, affine=True, track_running_stats=True)\n",
      "        (downsample): Sequential(\n",
      "          (0): Conv2d(128, 256, kernel_size=(1, 1), stride=(2, 2), bias=False)\n",
      "          (1): BatchNorm2d(256, eps=1e-05, momentum=0.1, affine=True, track_running_stats=True)\n",
      "        )\n",
      "      )\n",
      "      (1): BasicBlock(\n",
      "        (conv1): Conv2d(256, 256, kernel_size=(3, 3), stride=(1, 1), padding=(1, 1), bias=False)\n",
      "        (bn1): BatchNorm2d(256, eps=1e-05, momentum=0.1, affine=True, track_running_stats=True)\n",
      "        (relu): ReLU(inplace)\n",
      "        (conv2): Conv2d(256, 256, kernel_size=(3, 3), stride=(1, 1), padding=(1, 1), bias=False)\n",
      "        (bn2): BatchNorm2d(256, eps=1e-05, momentum=0.1, affine=True, track_running_stats=True)\n",
      "      )\n",
      "    )\n",
      "    (layer4): Sequential(\n",
      "      (0): BasicBlock(\n",
      "        (conv1): Conv2d(256, 512, kernel_size=(3, 3), stride=(2, 2), padding=(1, 1), bias=False)\n",
      "        (bn1): BatchNorm2d(512, eps=1e-05, momentum=0.1, affine=True, track_running_stats=True)\n",
      "        (relu): ReLU(inplace)\n",
      "        (conv2): Conv2d(512, 512, kernel_size=(3, 3), stride=(1, 1), padding=(1, 1), bias=False)\n",
      "        (bn2): BatchNorm2d(512, eps=1e-05, momentum=0.1, affine=True, track_running_stats=True)\n",
      "        (downsample): Sequential(\n",
      "          (0): Conv2d(256, 512, kernel_size=(1, 1), stride=(2, 2), bias=False)\n",
      "          (1): BatchNorm2d(512, eps=1e-05, momentum=0.1, affine=True, track_running_stats=True)\n",
      "        )\n",
      "      )\n",
      "      (1): BasicBlock(\n",
      "        (conv1): Conv2d(512, 512, kernel_size=(3, 3), stride=(1, 1), padding=(1, 1), bias=False)\n",
      "        (bn1): BatchNorm2d(512, eps=1e-05, momentum=0.1, affine=True, track_running_stats=True)\n",
      "        (relu): ReLU(inplace)\n",
      "        (conv2): Conv2d(512, 512, kernel_size=(3, 3), stride=(1, 1), padding=(1, 1), bias=False)\n",
      "        (bn2): BatchNorm2d(512, eps=1e-05, momentum=0.1, affine=True, track_running_stats=True)\n",
      "      )\n",
      "    )\n",
      "    (avgpool): AdaptiveAvgPool2d(output_size=(1, 1))\n",
      "    (fc): Linear(in_features=512, out_features=1000, bias=True)\n",
      "  )\n",
      "  (layer0): Sequential(\n",
      "    (0): Conv2d(3, 64, kernel_size=(7, 7), stride=(2, 2), padding=(3, 3), bias=False)\n",
      "    (1): BatchNorm2d(64, eps=1e-05, momentum=0.1, affine=True, track_running_stats=True)\n",
      "    (2): ReLU(inplace)\n",
      "  )\n",
      "  (layer0_1x1): Sequential(\n",
      "    (0): Conv2d(64, 64, kernel_size=(1, 1), stride=(1, 1))\n",
      "    (1): ReLU(inplace)\n",
      "  )\n",
      "  (layer1): Sequential(\n",
      "    (0): MaxPool2d(kernel_size=3, stride=2, padding=1, dilation=1, ceil_mode=False)\n",
      "    (1): Sequential(\n",
      "      (0): BasicBlock(\n",
      "        (conv1): Conv2d(64, 64, kernel_size=(3, 3), stride=(1, 1), padding=(1, 1), bias=False)\n",
      "        (bn1): BatchNorm2d(64, eps=1e-05, momentum=0.1, affine=True, track_running_stats=True)\n",
      "        (relu): ReLU(inplace)\n",
      "        (conv2): Conv2d(64, 64, kernel_size=(3, 3), stride=(1, 1), padding=(1, 1), bias=False)\n",
      "        (bn2): BatchNorm2d(64, eps=1e-05, momentum=0.1, affine=True, track_running_stats=True)\n",
      "      )\n",
      "      (1): BasicBlock(\n",
      "        (conv1): Conv2d(64, 64, kernel_size=(3, 3), stride=(1, 1), padding=(1, 1), bias=False)\n",
      "        (bn1): BatchNorm2d(64, eps=1e-05, momentum=0.1, affine=True, track_running_stats=True)\n",
      "        (relu): ReLU(inplace)\n",
      "        (conv2): Conv2d(64, 64, kernel_size=(3, 3), stride=(1, 1), padding=(1, 1), bias=False)\n",
      "        (bn2): BatchNorm2d(64, eps=1e-05, momentum=0.1, affine=True, track_running_stats=True)\n",
      "      )\n",
      "    )\n",
      "  )\n",
      "  (layer1_1x1): Sequential(\n",
      "    (0): Conv2d(64, 64, kernel_size=(1, 1), stride=(1, 1))\n",
      "    (1): ReLU(inplace)\n",
      "  )\n",
      "  (layer2): Sequential(\n",
      "    (0): BasicBlock(\n",
      "      (conv1): Conv2d(64, 128, kernel_size=(3, 3), stride=(2, 2), padding=(1, 1), bias=False)\n",
      "      (bn1): BatchNorm2d(128, eps=1e-05, momentum=0.1, affine=True, track_running_stats=True)\n",
      "      (relu): ReLU(inplace)\n",
      "      (conv2): Conv2d(128, 128, kernel_size=(3, 3), stride=(1, 1), padding=(1, 1), bias=False)\n",
      "      (bn2): BatchNorm2d(128, eps=1e-05, momentum=0.1, affine=True, track_running_stats=True)\n",
      "      (downsample): Sequential(\n",
      "        (0): Conv2d(64, 128, kernel_size=(1, 1), stride=(2, 2), bias=False)\n",
      "        (1): BatchNorm2d(128, eps=1e-05, momentum=0.1, affine=True, track_running_stats=True)\n",
      "      )\n",
      "    )\n",
      "    (1): BasicBlock(\n",
      "      (conv1): Conv2d(128, 128, kernel_size=(3, 3), stride=(1, 1), padding=(1, 1), bias=False)\n",
      "      (bn1): BatchNorm2d(128, eps=1e-05, momentum=0.1, affine=True, track_running_stats=True)\n",
      "      (relu): ReLU(inplace)\n",
      "      (conv2): Conv2d(128, 128, kernel_size=(3, 3), stride=(1, 1), padding=(1, 1), bias=False)\n",
      "      (bn2): BatchNorm2d(128, eps=1e-05, momentum=0.1, affine=True, track_running_stats=True)\n",
      "    )\n",
      "  )\n",
      "  (layer2_1x1): Sequential(\n",
      "    (0): Conv2d(128, 128, kernel_size=(1, 1), stride=(1, 1))\n",
      "    (1): ReLU(inplace)\n",
      "  )\n",
      "  (layer3): Sequential(\n",
      "    (0): BasicBlock(\n",
      "      (conv1): Conv2d(128, 256, kernel_size=(3, 3), stride=(2, 2), padding=(1, 1), bias=False)\n",
      "      (bn1): BatchNorm2d(256, eps=1e-05, momentum=0.1, affine=True, track_running_stats=True)\n",
      "      (relu): ReLU(inplace)\n",
      "      (conv2): Conv2d(256, 256, kernel_size=(3, 3), stride=(1, 1), padding=(1, 1), bias=False)\n",
      "      (bn2): BatchNorm2d(256, eps=1e-05, momentum=0.1, affine=True, track_running_stats=True)\n",
      "      (downsample): Sequential(\n",
      "        (0): Conv2d(128, 256, kernel_size=(1, 1), stride=(2, 2), bias=False)\n",
      "        (1): BatchNorm2d(256, eps=1e-05, momentum=0.1, affine=True, track_running_stats=True)\n",
      "      )\n",
      "    )\n",
      "    (1): BasicBlock(\n",
      "      (conv1): Conv2d(256, 256, kernel_size=(3, 3), stride=(1, 1), padding=(1, 1), bias=False)\n",
      "      (bn1): BatchNorm2d(256, eps=1e-05, momentum=0.1, affine=True, track_running_stats=True)\n",
      "      (relu): ReLU(inplace)\n",
      "      (conv2): Conv2d(256, 256, kernel_size=(3, 3), stride=(1, 1), padding=(1, 1), bias=False)\n",
      "      (bn2): BatchNorm2d(256, eps=1e-05, momentum=0.1, affine=True, track_running_stats=True)\n",
      "    )\n",
      "  )\n",
      "  (layer3_1x1): Sequential(\n",
      "    (0): Conv2d(256, 256, kernel_size=(1, 1), stride=(1, 1))\n",
      "    (1): ReLU(inplace)\n",
      "  )\n",
      "  (layer4): Sequential(\n",
      "    (0): BasicBlock(\n",
      "      (conv1): Conv2d(256, 512, kernel_size=(3, 3), stride=(2, 2), padding=(1, 1), bias=False)\n",
      "      (bn1): BatchNorm2d(512, eps=1e-05, momentum=0.1, affine=True, track_running_stats=True)\n",
      "      (relu): ReLU(inplace)\n",
      "      (conv2): Conv2d(512, 512, kernel_size=(3, 3), stride=(1, 1), padding=(1, 1), bias=False)\n",
      "      (bn2): BatchNorm2d(512, eps=1e-05, momentum=0.1, affine=True, track_running_stats=True)\n",
      "      (downsample): Sequential(\n",
      "        (0): Conv2d(256, 512, kernel_size=(1, 1), stride=(2, 2), bias=False)\n",
      "        (1): BatchNorm2d(512, eps=1e-05, momentum=0.1, affine=True, track_running_stats=True)\n",
      "      )\n",
      "    )\n",
      "    (1): BasicBlock(\n",
      "      (conv1): Conv2d(512, 512, kernel_size=(3, 3), stride=(1, 1), padding=(1, 1), bias=False)\n",
      "      (bn1): BatchNorm2d(512, eps=1e-05, momentum=0.1, affine=True, track_running_stats=True)\n",
      "      (relu): ReLU(inplace)\n",
      "      (conv2): Conv2d(512, 512, kernel_size=(3, 3), stride=(1, 1), padding=(1, 1), bias=False)\n",
      "      (bn2): BatchNorm2d(512, eps=1e-05, momentum=0.1, affine=True, track_running_stats=True)\n",
      "    )\n",
      "  )\n",
      "  (layer4_1x1): Sequential(\n",
      "    (0): Conv2d(512, 512, kernel_size=(1, 1), stride=(1, 1))\n",
      "    (1): ReLU(inplace)\n",
      "  )\n",
      "  (upsample): Upsample(scale_factor=2.0, mode=bilinear)\n",
      "  (conv_up3): Sequential(\n",
      "    (0): Conv2d(768, 512, kernel_size=(3, 3), stride=(1, 1), padding=(1, 1))\n",
      "    (1): ReLU(inplace)\n",
      "  )\n",
      "  (conv_up2): Sequential(\n",
      "    (0): Conv2d(640, 256, kernel_size=(3, 3), stride=(1, 1), padding=(1, 1))\n",
      "    (1): ReLU(inplace)\n",
      "  )\n",
      "  (conv_up1): Sequential(\n",
      "    (0): Conv2d(320, 256, kernel_size=(3, 3), stride=(1, 1), padding=(1, 1))\n",
      "    (1): ReLU(inplace)\n",
      "  )\n",
      "  (conv_up0): Sequential(\n",
      "    (0): Conv2d(320, 128, kernel_size=(3, 3), stride=(1, 1), padding=(1, 1))\n",
      "    (1): ReLU(inplace)\n",
      "  )\n",
      "  (conv_original_size0): Sequential(\n",
      "    (0): Conv2d(3, 64, kernel_size=(3, 3), stride=(1, 1), padding=(1, 1))\n",
      "    (1): ReLU(inplace)\n",
      "  )\n",
      "  (conv_original_size1): Sequential(\n",
      "    (0): Conv2d(64, 64, kernel_size=(3, 3), stride=(1, 1), padding=(1, 1))\n",
      "    (1): ReLU(inplace)\n",
      "  )\n",
      "  (conv_original_size2): Sequential(\n",
      "    (0): Conv2d(192, 64, kernel_size=(3, 3), stride=(1, 1), padding=(1, 1))\n",
      "    (1): ReLU(inplace)\n",
      "  )\n",
      "  (conv_last): Conv2d(64, 6, kernel_size=(1, 1), stride=(1, 1))\n",
      ")\n"
     ]
    }
   ],
   "source": [
    "torch.manual_seed(42)\n",
    "backbone_model = models.resnet18(pretrained=True)\n",
    "model = ResNetUNet(n_class=6, base_model=backbone_model)\n",
    "print(model)"
   ]
  },
  {
   "cell_type": "code",
   "execution_count": 4,
   "id": "e77f29e0",
   "metadata": {},
   "outputs": [],
   "source": [
    "lr = 5e-04\n",
    "epochs = 20"
   ]
  },
  {
   "cell_type": "code",
   "execution_count": 5,
   "id": "wanted-hydrogen",
   "metadata": {},
   "outputs": [
    {
     "name": "stderr",
     "output_type": "stream",
     "text": [
      "\r",
      "  0%|                                                                                          | 0/310 [00:00<?, ?it/s]"
     ]
    },
    {
     "name": "stdout",
     "output_type": "stream",
     "text": [
      "Current Device is GPU: 0\n",
      "Total memory allocated in GB: 0.1\n",
      "Total memory cached in GB: 0.1\n",
      "Learning Rate =  0.0005\n",
      "Starting epoch: 0 | phase: train | ⏰: 20:41:55\n"
     ]
    },
    {
     "name": "stderr",
     "output_type": "stream",
     "text": [
      "100%|████████████████████████████████████████████████████████████████████| 310/310 [07:45<00:00,  1.50s/it, loss=0.035]\n",
      "C:\\Users\\SIDDHARTA\\OneDrive\\Documents\\NEU-DET\\Meter.py:40: RuntimeWarning: Mean of empty slice\n",
      "  dice_neg = np.nanmean(self.dice_neg_scores)\n",
      "  0%|                                                                                          | 0/133 [00:00<?, ?it/s]"
     ]
    },
    {
     "name": "stdout",
     "output_type": "stream",
     "text": [
      "Loss: 0.2799 | IoU: 0.0115 | dice: 0.0156 | dice_neg: nan | dice_pos: 0.0156\n",
      "Starting epoch: 0 | phase: val | ⏰: 20:49:40\n"
     ]
    },
    {
     "name": "stderr",
     "output_type": "stream",
     "text": [
      "100%|███████████████████████████████████████████████████████████████████| 133/133 [01:23<00:00,  1.58it/s, loss=0.0271]\n"
     ]
    },
    {
     "name": "stdout",
     "output_type": "stream",
     "text": [
      "Loss: 0.2165 | IoU: 0.0257 | dice: 0.0362 | dice_neg: nan | dice_pos: 0.0362\n",
      "******** New optimal found, saving state ********\n"
     ]
    },
    {
     "name": "stderr",
     "output_type": "stream",
     "text": [
      "\r",
      "  0%|                                                                                          | 0/310 [00:00<?, ?it/s]"
     ]
    },
    {
     "name": "stdout",
     "output_type": "stream",
     "text": [
      "\n",
      "Learning Rate =  0.0005\n",
      "Starting epoch: 1 | phase: train | ⏰: 20:51:04\n"
     ]
    },
    {
     "name": "stderr",
     "output_type": "stream",
     "text": [
      "100%|███████████████████████████████████████████████████████████████████| 310/310 [07:58<00:00,  1.54s/it, loss=0.0261]\n",
      "  0%|                                                                                          | 0/133 [00:00<?, ?it/s]"
     ]
    },
    {
     "name": "stdout",
     "output_type": "stream",
     "text": [
      "Loss: 0.2091 | IoU: 0.0512 | dice: 0.0691 | dice_neg: nan | dice_pos: 0.0691\n",
      "Starting epoch: 1 | phase: val | ⏰: 20:59:03\n"
     ]
    },
    {
     "name": "stderr",
     "output_type": "stream",
     "text": [
      "100%|███████████████████████████████████████████████████████████████████| 133/133 [01:27<00:00,  1.52it/s, loss=0.0246]\n"
     ]
    },
    {
     "name": "stdout",
     "output_type": "stream",
     "text": [
      "Loss: 0.1969 | IoU: 0.0865 | dice: 0.1160 | dice_neg: nan | dice_pos: 0.1160\n",
      "******** New optimal found, saving state ********\n"
     ]
    },
    {
     "name": "stderr",
     "output_type": "stream",
     "text": [
      "100%|███████████████████████████████████████████████████████████████████| 310/310 [07:59<00:00,  1.55s/it, loss=0.0242]\n",
      "  0%|                                                                                          | 0/133 [00:00<?, ?it/s]"
     ]
    },
    {
     "name": "stdout",
     "output_type": "stream",
     "text": [
      "\n",
      "Learning Rate =  0.0005\n",
      "Starting epoch: 2 | phase: train | ⏰: 21:00:31\n",
      "Loss: 0.1938 | IoU: 0.0891 | dice: 0.1206 | dice_neg: nan | dice_pos: 0.1206\n",
      "Starting epoch: 2 | phase: val | ⏰: 21:08:30\n"
     ]
    },
    {
     "name": "stderr",
     "output_type": "stream",
     "text": [
      "100%|███████████████████████████████████████████████████████████████████| 133/133 [01:28<00:00,  1.50it/s, loss=0.0227]\n"
     ]
    },
    {
     "name": "stdout",
     "output_type": "stream",
     "text": [
      "Loss: 0.1820 | IoU: 0.1320 | dice: 0.1742 | dice_neg: nan | dice_pos: 0.1742\n",
      "******** New optimal found, saving state ********\n"
     ]
    },
    {
     "name": "stderr",
     "output_type": "stream",
     "text": [
      "\r",
      "  0%|                                                                                          | 0/310 [00:00<?, ?it/s]"
     ]
    },
    {
     "name": "stdout",
     "output_type": "stream",
     "text": [
      "\n",
      "Learning Rate =  0.0005\n",
      "Starting epoch: 3 | phase: train | ⏰: 21:09:59\n"
     ]
    },
    {
     "name": "stderr",
     "output_type": "stream",
     "text": [
      "100%|███████████████████████████████████████████████████████████████████| 310/310 [08:00<00:00,  1.55s/it, loss=0.0225]\n",
      "  0%|                                                                                          | 0/133 [00:00<?, ?it/s]"
     ]
    },
    {
     "name": "stdout",
     "output_type": "stream",
     "text": [
      "Loss: 0.1801 | IoU: 0.1214 | dice: 0.1551 | dice_neg: nan | dice_pos: 0.1551\n",
      "Starting epoch: 3 | phase: val | ⏰: 21:17:59\n"
     ]
    },
    {
     "name": "stderr",
     "output_type": "stream",
     "text": [
      "100%|████████████████████████████████████████████████████████████████████| 133/133 [01:27<00:00,  1.52it/s, loss=0.018]\n"
     ]
    },
    {
     "name": "stdout",
     "output_type": "stream",
     "text": [
      "Loss: 0.1443 | IoU: 0.1974 | dice: 0.2395 | dice_neg: nan | dice_pos: 0.2395\n",
      "******** New optimal found, saving state ********\n"
     ]
    },
    {
     "name": "stderr",
     "output_type": "stream",
     "text": [
      "\r",
      "  0%|                                                                                          | 0/310 [00:00<?, ?it/s]"
     ]
    },
    {
     "name": "stdout",
     "output_type": "stream",
     "text": [
      "\n",
      "Learning Rate =  0.0005\n",
      "Starting epoch: 4 | phase: train | ⏰: 21:19:27\n"
     ]
    },
    {
     "name": "stderr",
     "output_type": "stream",
     "text": [
      "100%|███████████████████████████████████████████████████████████████████| 310/310 [06:22<00:00,  1.24s/it, loss=0.0188]\n",
      "  0%|                                                                                          | 0/133 [00:00<?, ?it/s]"
     ]
    },
    {
     "name": "stdout",
     "output_type": "stream",
     "text": [
      "Loss: 0.1502 | IoU: 0.1791 | dice: 0.2189 | dice_neg: nan | dice_pos: 0.2189\n",
      "Starting epoch: 4 | phase: val | ⏰: 21:25:50\n"
     ]
    },
    {
     "name": "stderr",
     "output_type": "stream",
     "text": [
      "100%|███████████████████████████████████████████████████████████████████| 133/133 [01:13<00:00,  1.82it/s, loss=0.0161]\n",
      "  0%|                                                                                          | 0/310 [00:00<?, ?it/s]"
     ]
    },
    {
     "name": "stdout",
     "output_type": "stream",
     "text": [
      "Loss: 0.1285 | IoU: 0.2251 | dice: 0.2812 | dice_neg: nan | dice_pos: 0.2812\n",
      "******** New optimal found, saving state ********\n",
      "\n",
      "Learning Rate =  0.0005\n",
      "Starting epoch: 5 | phase: train | ⏰: 21:27:04\n"
     ]
    },
    {
     "name": "stderr",
     "output_type": "stream",
     "text": [
      "100%|███████████████████████████████████████████████████████████████████| 310/310 [07:51<00:00,  1.52s/it, loss=0.0158]\n",
      "  0%|                                                                                          | 0/133 [00:00<?, ?it/s]"
     ]
    },
    {
     "name": "stdout",
     "output_type": "stream",
     "text": [
      "Loss: 0.1263 | IoU: 0.2336 | dice: 0.2868 | dice_neg: nan | dice_pos: 0.2868\n",
      "Starting epoch: 5 | phase: val | ⏰: 21:34:55\n"
     ]
    },
    {
     "name": "stderr",
     "output_type": "stream",
     "text": [
      "100%|███████████████████████████████████████████████████████████████████| 133/133 [01:23<00:00,  1.59it/s, loss=0.0117]\n",
      "  0%|                                                                                          | 0/310 [00:00<?, ?it/s]"
     ]
    },
    {
     "name": "stdout",
     "output_type": "stream",
     "text": [
      "Loss: 0.0939 | IoU: 0.3302 | dice: 0.3952 | dice_neg: nan | dice_pos: 0.3952\n",
      "******** New optimal found, saving state ********\n",
      "\n",
      "Learning Rate =  0.0005\n",
      "Starting epoch: 6 | phase: train | ⏰: 21:36:19\n"
     ]
    },
    {
     "name": "stderr",
     "output_type": "stream",
     "text": [
      "100%|███████████████████████████████████████████████████████████████████| 310/310 [08:02<00:00,  1.56s/it, loss=0.0142]\n",
      "  0%|                                                                                          | 0/133 [00:00<?, ?it/s]"
     ]
    },
    {
     "name": "stdout",
     "output_type": "stream",
     "text": [
      "Loss: 0.1132 | IoU: 0.3162 | dice: 0.4015 | dice_neg: nan | dice_pos: 0.4015\n",
      "Starting epoch: 6 | phase: val | ⏰: 21:44:22\n"
     ]
    },
    {
     "name": "stderr",
     "output_type": "stream",
     "text": [
      "100%|████████████████████████████████████████████████████████████████████| 133/133 [01:22<00:00,  1.61it/s, loss=0.011]\n",
      "  0%|                                                                                          | 0/310 [00:00<?, ?it/s]"
     ]
    },
    {
     "name": "stdout",
     "output_type": "stream",
     "text": [
      "Loss: 0.0876 | IoU: 0.4535 | dice: 0.5592 | dice_neg: nan | dice_pos: 0.5592\n",
      "******** New optimal found, saving state ********\n",
      "\n",
      "Learning Rate =  0.0005\n",
      "Starting epoch: 7 | phase: train | ⏰: 21:45:44\n"
     ]
    },
    {
     "name": "stderr",
     "output_type": "stream",
     "text": [
      "100%|███████████████████████████████████████████████████████████████████| 310/310 [07:51<00:00,  1.52s/it, loss=0.0137]\n",
      "  0%|                                                                                          | 0/133 [00:00<?, ?it/s]"
     ]
    },
    {
     "name": "stdout",
     "output_type": "stream",
     "text": [
      "Loss: 0.1097 | IoU: 0.3846 | dice: 0.4877 | dice_neg: nan | dice_pos: 0.4877\n",
      "Starting epoch: 7 | phase: val | ⏰: 21:53:36\n"
     ]
    },
    {
     "name": "stderr",
     "output_type": "stream",
     "text": [
      "100%|████████████████████████████████████████████████████████████████████| 133/133 [01:22<00:00,  1.61it/s, loss=0.012]\n",
      "  0%|                                                                                          | 0/310 [00:00<?, ?it/s]"
     ]
    },
    {
     "name": "stdout",
     "output_type": "stream",
     "text": [
      "Loss: 0.0957 | IoU: 0.5283 | dice: 0.6522 | dice_neg: nan | dice_pos: 0.6522\n",
      "\n",
      "Learning Rate =  0.0005\n",
      "Starting epoch: 8 | phase: train | ⏰: 21:54:59\n"
     ]
    },
    {
     "name": "stderr",
     "output_type": "stream",
     "text": [
      "100%|███████████████████████████████████████████████████████████████████| 310/310 [07:50<00:00,  1.52s/it, loss=0.0124]\n",
      "  0%|                                                                                          | 0/133 [00:00<?, ?it/s]"
     ]
    },
    {
     "name": "stdout",
     "output_type": "stream",
     "text": [
      "Loss: 0.0992 | IoU: 0.4583 | dice: 0.5764 | dice_neg: nan | dice_pos: 0.5764\n",
      "Starting epoch: 8 | phase: val | ⏰: 22:02:50\n"
     ]
    },
    {
     "name": "stderr",
     "output_type": "stream",
     "text": [
      "100%|███████████████████████████████████████████████████████████████████| 133/133 [01:22<00:00,  1.61it/s, loss=0.0106]\n",
      "  0%|                                                                                          | 0/310 [00:00<?, ?it/s]"
     ]
    },
    {
     "name": "stdout",
     "output_type": "stream",
     "text": [
      "Loss: 0.0845 | IoU: 0.5689 | dice: 0.6924 | dice_neg: nan | dice_pos: 0.6924\n",
      "******** New optimal found, saving state ********\n",
      "\n",
      "Learning Rate =  0.0005\n",
      "Starting epoch: 9 | phase: train | ⏰: 22:04:13\n"
     ]
    },
    {
     "name": "stderr",
     "output_type": "stream",
     "text": [
      "100%|████████████████████████████████████████████████████████████████████| 310/310 [10:19<00:00,  2.00s/it, loss=0.011]\n",
      "  0%|                                                                                          | 0/133 [00:00<?, ?it/s]"
     ]
    },
    {
     "name": "stdout",
     "output_type": "stream",
     "text": [
      "Loss: 0.0879 | IoU: 0.5032 | dice: 0.6260 | dice_neg: nan | dice_pos: 0.6260\n",
      "Starting epoch: 9 | phase: val | ⏰: 22:14:33\n"
     ]
    },
    {
     "name": "stderr",
     "output_type": "stream",
     "text": [
      "100%|██████████████████████████████████████████████████████████████████| 133/133 [01:21<00:00,  1.63it/s, loss=0.00936]\n",
      "  0%|                                                                                          | 0/310 [00:00<?, ?it/s]"
     ]
    },
    {
     "name": "stdout",
     "output_type": "stream",
     "text": [
      "Loss: 0.0749 | IoU: 0.5345 | dice: 0.6553 | dice_neg: nan | dice_pos: 0.6553\n",
      "******** New optimal found, saving state ********\n",
      "\n",
      "Learning Rate =  0.0005\n",
      "Starting epoch: 10 | phase: train | ⏰: 22:15:54\n"
     ]
    },
    {
     "name": "stderr",
     "output_type": "stream",
     "text": [
      "100%|███████████████████████████████████████████████████████████████████| 310/310 [07:51<00:00,  1.52s/it, loss=0.0108]\n",
      "  0%|                                                                                          | 0/133 [00:00<?, ?it/s]"
     ]
    },
    {
     "name": "stdout",
     "output_type": "stream",
     "text": [
      "Loss: 0.0865 | IoU: 0.5149 | dice: 0.6405 | dice_neg: nan | dice_pos: 0.6405\n",
      "Starting epoch: 10 | phase: val | ⏰: 22:23:46\n"
     ]
    },
    {
     "name": "stderr",
     "output_type": "stream",
     "text": [
      "100%|███████████████████████████████████████████████████████████████████| 133/133 [01:22<00:00,  1.60it/s, loss=0.0114]\n",
      "  0%|                                                                                          | 0/310 [00:00<?, ?it/s]"
     ]
    },
    {
     "name": "stdout",
     "output_type": "stream",
     "text": [
      "Loss: 0.0910 | IoU: 0.4612 | dice: 0.5580 | dice_neg: nan | dice_pos: 0.5580\n",
      "\n",
      "Learning Rate =  0.0005\n",
      "Starting epoch: 11 | phase: train | ⏰: 22:25:09\n"
     ]
    },
    {
     "name": "stderr",
     "output_type": "stream",
     "text": [
      "100%|███████████████████████████████████████████████████████████████████| 310/310 [10:20<00:00,  2.00s/it, loss=0.0105]\n",
      "  0%|                                                                                          | 0/133 [00:00<?, ?it/s]"
     ]
    },
    {
     "name": "stdout",
     "output_type": "stream",
     "text": [
      "Loss: 0.0841 | IoU: 0.5230 | dice: 0.6470 | dice_neg: nan | dice_pos: 0.6470\n",
      "Starting epoch: 11 | phase: val | ⏰: 22:35:29\n"
     ]
    },
    {
     "name": "stderr",
     "output_type": "stream",
     "text": [
      "100%|██████████████████████████████████████████████████████████████████| 133/133 [00:50<00:00,  2.66it/s, loss=0.00867]\n",
      "  0%|                                                                                          | 0/310 [00:00<?, ?it/s]"
     ]
    },
    {
     "name": "stdout",
     "output_type": "stream",
     "text": [
      "Loss: 0.0694 | IoU: 0.5924 | dice: 0.7140 | dice_neg: nan | dice_pos: 0.7140\n",
      "******** New optimal found, saving state ********\n",
      "\n",
      "Learning Rate =  0.0005\n",
      "Starting epoch: 12 | phase: train | ⏰: 22:36:20\n"
     ]
    },
    {
     "name": "stderr",
     "output_type": "stream",
     "text": [
      "100%|██████████████████████████████████████████████████████████████████| 310/310 [07:51<00:00,  1.52s/it, loss=0.00997]\n",
      "  0%|                                                                                          | 0/133 [00:00<?, ?it/s]"
     ]
    },
    {
     "name": "stdout",
     "output_type": "stream",
     "text": [
      "Loss: 0.0797 | IoU: 0.5482 | dice: 0.6774 | dice_neg: nan | dice_pos: 0.6774\n",
      "Starting epoch: 12 | phase: val | ⏰: 22:44:11\n"
     ]
    },
    {
     "name": "stderr",
     "output_type": "stream",
     "text": [
      "100%|██████████████████████████████████████████████████████████████████| 133/133 [01:23<00:00,  1.59it/s, loss=0.00959]\n",
      "  0%|                                                                                          | 0/310 [00:00<?, ?it/s]"
     ]
    },
    {
     "name": "stdout",
     "output_type": "stream",
     "text": [
      "Loss: 0.0767 | IoU: 0.5469 | dice: 0.6695 | dice_neg: nan | dice_pos: 0.6695\n",
      "\n",
      "Learning Rate =  0.0005\n",
      "Starting epoch: 13 | phase: train | ⏰: 22:45:34\n"
     ]
    },
    {
     "name": "stderr",
     "output_type": "stream",
     "text": [
      "100%|███████████████████████████████████████████████████████████████████| 310/310 [12:09<00:00,  2.35s/it, loss=0.0106]\n",
      "  0%|                                                                                          | 0/133 [00:00<?, ?it/s]"
     ]
    },
    {
     "name": "stdout",
     "output_type": "stream",
     "text": [
      "Loss: 0.0844 | IoU: 0.5246 | dice: 0.6494 | dice_neg: nan | dice_pos: 0.6494\n",
      "Starting epoch: 13 | phase: val | ⏰: 22:57:44\n"
     ]
    },
    {
     "name": "stderr",
     "output_type": "stream",
     "text": [
      "100%|███████████████████████████████████████████████████████████████████| 133/133 [00:22<00:00,  5.84it/s, loss=0.0101]\n",
      "  0%|                                                                                          | 0/310 [00:00<?, ?it/s]"
     ]
    },
    {
     "name": "stdout",
     "output_type": "stream",
     "text": [
      "Loss: 0.0809 | IoU: 0.4829 | dice: 0.5842 | dice_neg: nan | dice_pos: 0.5842\n",
      "\n",
      "Learning Rate =  0.0005\n",
      "Starting epoch: 14 | phase: train | ⏰: 22:58:07\n"
     ]
    },
    {
     "name": "stderr",
     "output_type": "stream",
     "text": [
      "100%|██████████████████████████████████████████████████████████████████| 310/310 [06:30<00:00,  1.26s/it, loss=0.00979]\n",
      "  0%|                                                                                          | 0/133 [00:00<?, ?it/s]"
     ]
    },
    {
     "name": "stdout",
     "output_type": "stream",
     "text": [
      "Loss: 0.0783 | IoU: 0.5519 | dice: 0.6766 | dice_neg: nan | dice_pos: 0.6766\n",
      "Starting epoch: 14 | phase: val | ⏰: 23:04:38\n"
     ]
    },
    {
     "name": "stderr",
     "output_type": "stream",
     "text": [
      "100%|██████████████████████████████████████████████████████████████████| 133/133 [01:23<00:00,  1.60it/s, loss=0.00896]\n",
      "  0%|                                                                                          | 0/310 [00:00<?, ?it/s]"
     ]
    },
    {
     "name": "stdout",
     "output_type": "stream",
     "text": [
      "Loss: 0.0716 | IoU: 0.5853 | dice: 0.7062 | dice_neg: nan | dice_pos: 0.7062\n",
      "\n",
      "Learning Rate =  0.0005\n",
      "Starting epoch: 15 | phase: train | ⏰: 23:06:01\n"
     ]
    },
    {
     "name": "stderr",
     "output_type": "stream",
     "text": [
      "100%|███████████████████████████████████████████████████████████████████| 310/310 [07:51<00:00,  1.52s/it, loss=0.0091]\n",
      "  0%|                                                                                          | 0/133 [00:00<?, ?it/s]"
     ]
    },
    {
     "name": "stdout",
     "output_type": "stream",
     "text": [
      "Loss: 0.0728 | IoU: 0.5777 | dice: 0.7054 | dice_neg: nan | dice_pos: 0.7054\n",
      "Starting epoch: 15 | phase: val | ⏰: 23:13:52\n"
     ]
    },
    {
     "name": "stderr",
     "output_type": "stream",
     "text": [
      "100%|██████████████████████████████████████████████████████████████████| 133/133 [01:22<00:00,  1.60it/s, loss=0.00884]\n",
      "  0%|                                                                                          | 0/310 [00:00<?, ?it/s]"
     ]
    },
    {
     "name": "stdout",
     "output_type": "stream",
     "text": [
      "Loss: 0.0708 | IoU: 0.6046 | dice: 0.7284 | dice_neg: nan | dice_pos: 0.7284\n",
      "Epoch    15: reducing learning rate of group 0 to 5.0000e-05.\n",
      "\n",
      "Learning Rate =  5e-05\n",
      "Starting epoch: 16 | phase: train | ⏰: 23:15:15\n"
     ]
    },
    {
     "name": "stderr",
     "output_type": "stream",
     "text": [
      "100%|██████████████████████████████████████████████████████████████████| 310/310 [07:51<00:00,  1.52s/it, loss=0.00889]\n",
      "  0%|                                                                                          | 0/133 [00:00<?, ?it/s]"
     ]
    },
    {
     "name": "stdout",
     "output_type": "stream",
     "text": [
      "Loss: 0.0711 | IoU: 0.5927 | dice: 0.7194 | dice_neg: nan | dice_pos: 0.7194\n",
      "Starting epoch: 16 | phase: val | ⏰: 23:23:07\n"
     ]
    },
    {
     "name": "stderr",
     "output_type": "stream",
     "text": [
      "100%|███████████████████████████████████████████████████████████████████| 133/133 [01:23<00:00,  1.60it/s, loss=0.0082]\n"
     ]
    },
    {
     "name": "stdout",
     "output_type": "stream",
     "text": [
      "Loss: 0.0656 | IoU: 0.6119 | dice: 0.7325 | dice_neg: nan | dice_pos: 0.7325\n",
      "******** New optimal found, saving state ********\n"
     ]
    },
    {
     "name": "stderr",
     "output_type": "stream",
     "text": [
      "\r",
      "  0%|                                                                                          | 0/310 [00:00<?, ?it/s]"
     ]
    },
    {
     "name": "stdout",
     "output_type": "stream",
     "text": [
      "\n",
      "Learning Rate =  5e-05\n",
      "Starting epoch: 17 | phase: train | ⏰: 23:24:30\n"
     ]
    },
    {
     "name": "stderr",
     "output_type": "stream",
     "text": [
      "100%|██████████████████████████████████████████████████████████████████| 310/310 [07:52<00:00,  1.52s/it, loss=0.00859]\n",
      "  0%|                                                                                          | 0/133 [00:00<?, ?it/s]"
     ]
    },
    {
     "name": "stdout",
     "output_type": "stream",
     "text": [
      "Loss: 0.0687 | IoU: 0.5960 | dice: 0.7228 | dice_neg: nan | dice_pos: 0.7228\n",
      "Starting epoch: 17 | phase: val | ⏰: 23:32:23\n"
     ]
    },
    {
     "name": "stderr",
     "output_type": "stream",
     "text": [
      "100%|███████████████████████████████████████████████████████████████████| 133/133 [01:23<00:00,  1.60it/s, loss=0.0079]\n",
      "  0%|                                                                                          | 0/310 [00:00<?, ?it/s]"
     ]
    },
    {
     "name": "stdout",
     "output_type": "stream",
     "text": [
      "Loss: 0.0632 | IoU: 0.6199 | dice: 0.7409 | dice_neg: nan | dice_pos: 0.7409\n",
      "******** New optimal found, saving state ********\n",
      "\n",
      "Learning Rate =  5e-05\n",
      "Starting epoch: 18 | phase: train | ⏰: 23:33:46\n"
     ]
    },
    {
     "name": "stderr",
     "output_type": "stream",
     "text": [
      "100%|██████████████████████████████████████████████████████████████████| 310/310 [07:51<00:00,  1.52s/it, loss=0.00841]\n",
      "  0%|                                                                                          | 0/133 [00:00<?, ?it/s]"
     ]
    },
    {
     "name": "stdout",
     "output_type": "stream",
     "text": [
      "Loss: 0.0673 | IoU: 0.6057 | dice: 0.7314 | dice_neg: nan | dice_pos: 0.7314\n",
      "Starting epoch: 18 | phase: val | ⏰: 23:41:38\n"
     ]
    },
    {
     "name": "stderr",
     "output_type": "stream",
     "text": [
      "100%|██████████████████████████████████████████████████████████████████| 133/133 [01:23<00:00,  1.60it/s, loss=0.00852]\n",
      "  0%|                                                                                          | 0/310 [00:00<?, ?it/s]"
     ]
    },
    {
     "name": "stdout",
     "output_type": "stream",
     "text": [
      "Loss: 0.0682 | IoU: 0.6052 | dice: 0.7270 | dice_neg: nan | dice_pos: 0.7270\n",
      "\n",
      "Learning Rate =  5e-05\n",
      "Starting epoch: 19 | phase: train | ⏰: 23:43:01\n"
     ]
    },
    {
     "name": "stderr",
     "output_type": "stream",
     "text": [
      "100%|██████████████████████████████████████████████████████████████████| 310/310 [07:52<00:00,  1.52s/it, loss=0.00822]\n",
      "  0%|                                                                                          | 0/133 [00:00<?, ?it/s]"
     ]
    },
    {
     "name": "stdout",
     "output_type": "stream",
     "text": [
      "Loss: 0.0658 | IoU: 0.6100 | dice: 0.7363 | dice_neg: nan | dice_pos: 0.7363\n",
      "Starting epoch: 19 | phase: val | ⏰: 23:50:53\n"
     ]
    },
    {
     "name": "stderr",
     "output_type": "stream",
     "text": [
      "100%|██████████████████████████████████████████████████████████████████| 133/133 [01:22<00:00,  1.60it/s, loss=0.00843]"
     ]
    },
    {
     "name": "stdout",
     "output_type": "stream",
     "text": [
      "Loss: 0.0674 | IoU: 0.6140 | dice: 0.7342 | dice_neg: nan | dice_pos: 0.7342\n",
      "\n"
     ]
    },
    {
     "name": "stderr",
     "output_type": "stream",
     "text": [
      "\n"
     ]
    }
   ],
   "source": [
    "model_trainer = Trainer(model, lr, epochs)\n",
    "print(f\"Current Device is GPU: {torch.cuda.current_device()}\")\n",
    "print(f\"Total memory allocated in GB: {round(torch.cuda.memory_allocated(0)/1024**3,1)}\")\n",
    "print(f\"Total memory cached in GB: {round(torch.cuda.memory_cached(0)/1024**3,1)}\")\n",
    "model_trainer.start()"
   ]
  },
  {
   "cell_type": "code",
   "execution_count": 6,
   "id": "cee2bce7",
   "metadata": {},
   "outputs": [
    {
     "data": {
      "image/png": "[encoded data removed]",
      "text/plain": [
       "<Figure size 1080x360 with 1 Axes>"
      ]
     },
     "metadata": {
      "needs_background": "light"
     },
     "output_type": "display_data"
    },
    {
     "data": {
      "image/png": "[encoded data removed]",
      "text/plain": [
       "<Figure size 1080x360 with 1 Axes>"
      ]
     },
     "metadata": {
      "needs_background": "light"
     },
     "output_type": "display_data"
    },
    {
     "data": {
      "image/png": "[encoded data removed]",
      "text/plain": [
       "<Figure size 1080x360 with 1 Axes>"
      ]
     },
     "metadata": {
      "needs_background": "light"
     },
     "output_type": "display_data"
    }
   ],
   "source": [
    "losses = model_trainer.losses\n",
    "dice_scores = model_trainer.dice_scores # overall dice\n",
    "iou_scores = model_trainer.iou_scores\n",
    "\n",
    "def plot(scores, name):\n",
    "    plt.figure(figsize=(15,5))\n",
    "    plt.plot(range(len(scores[\"train\"])), scores[\"train\"], label=f'train {name}')\n",
    "    plt.plot(range(len(scores[\"train\"])), scores[\"val\"], label=f'val {name}')\n",
    "    plt.title(f'{name} plot'); plt.xlabel('Epoch'); plt.ylabel(f'{name}');\n",
    "    plt.legend(); \n",
    "    plt.show()\n",
    "\n",
    "plot(losses, \"BCE loss\")\n",
    "plot(dice_scores, \"Dice score\")\n",
    "plot(iou_scores, \"IoU score\")"
   ]
  }
 ],
 "metadata": {
  "kernelspec": {
   "display_name": "Python 3",
   "language": "python",
   "name": "python3"
  },
  "language_info": {
   "codemirror_mode": {
    "name": "ipython",
    "version": 3
   },
   "file_extension": ".py",
   "mimetype": "text/x-python",
   "name": "python",
   "nbconvert_exporter": "python",
   "pygments_lexer": "ipython3",
   "version": "3.7.3"
  }
 },
 "nbformat": 4,
 "nbformat_minor": 5
}
