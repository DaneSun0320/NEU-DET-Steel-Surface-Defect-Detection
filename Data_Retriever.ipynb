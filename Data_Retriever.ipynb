{
 "cells": [
  {
   "cell_type": "code",
   "execution_count": 1,
   "id": "confirmed-kenya",
   "metadata": {},
   "outputs": [],
   "source": [
    "import torch\n",
    "from torch.utils import data as torch_data\n",
    "from torchvision import datasets, transforms, models\n",
    "from PIL import Image"
   ]
  },
  {
   "cell_type": "code",
   "execution_count": 2,
   "id": "intelligent-audit",
   "metadata": {},
   "outputs": [],
   "source": [
    "class DataRetriever(torch_data.Dataset):\n",
    "    def __init__(self, path, categories=None):\n",
    "        self.path = path\n",
    "        self.categories = categories\n",
    "        self.transforms = self.get_transforms()\n",
    "          \n",
    "    def __len__(self):\n",
    "        return len(self.path)\n",
    "    \n",
    "    def __getitem__(self, index):\n",
    "        img = Image.open(self.path[index])\n",
    "        #img = cv2.resize(img, (224, 224))\n",
    "        #img = cv2.cvtColor(img, cv2.COLOR_BGR2RGB)\n",
    "        \n",
    "        if self.transforms:\n",
    "            img = self.transforms(img)\n",
    "        \n",
    "        if self.categories is None:\n",
    "            return img\n",
    "        \n",
    "        y = self.categories[index] \n",
    "        return img, y\n",
    "    \n",
    "    def get_transforms(self):\n",
    "        return transforms.Compose([\n",
    "            transforms.RandomRotation(10),      # rotate +/- 10 degrees\n",
    "            transforms.RandomHorizontalFlip(),  # reverse 50% of images\n",
    "            #transforms.Resize(224),             # resize shortest side to 224 pixels\n",
    "            #transforms.CenterCrop(224),         # crop longest side to 224 pixels at center\n",
    "            transforms.ToTensor(),\n",
    "            transforms.Normalize([0.485, 0.456, 0.406],\n",
    "                             [0.229, 0.224, 0.225])\n",
    "        ])"
   ]
  },
  {
   "cell_type": "code",
   "execution_count": null,
   "id": "creative-sampling",
   "metadata": {},
   "outputs": [],
   "source": []
  }
 ],
 "metadata": {
  "kernelspec": {
   "display_name": "Python 3",
   "language": "python",
   "name": "python3"
  },
  "language_info": {
   "codemirror_mode": {
    "name": "ipython",
    "version": 3
   },
   "file_extension": ".py",
   "mimetype": "text/x-python",
   "name": "python",
   "nbconvert_exporter": "python",
   "pygments_lexer": "ipython3",
   "version": "3.7.3"
  }
 },
 "nbformat": 4,
 "nbformat_minor": 5
}
